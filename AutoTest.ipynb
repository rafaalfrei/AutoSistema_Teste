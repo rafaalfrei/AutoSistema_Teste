{
 "cells": [
  {
   "cell_type": "code",
   "execution_count": 184,
   "id": "d9ce054c-6a83-47e1-a189-038524969c7d",
   "metadata": {},
   "outputs": [
    {
     "name": "stdout",
     "output_type": "stream",
     "text": [
      "         Usuário         Senha Primeiro Nome Último Nome  Código Postal\n",
      "0  standard_user  secret_sauce          Jake   Watterson        8766255\n"
     ]
    }
   ],
   "source": [
    "#Teste de Automação com Python 3.12.0 e Selenium\n",
    "\n",
    "#No prompt de comando foi feita a instalação do selenium, webdriver e jupyter, utilizando o comando pip\n",
    "#Utilizei o notebook jupyter para o desenvolvimento do código do projeto\n",
    "\n",
    "from selenium import webdriver\n",
    "from webdriver_manager.chrome import ChromeDriverManager\n",
    "from selenium.webdriver.chrome.service import Service\n",
    "\n",
    "servico = Service(ChromeDriverManager().install())\n",
    "\n",
    "navegador = webdriver.Chrome(service=servico)\n",
    "\n",
    "#Nesse momento eu importei um arquivo em .csv, utilizado para a retirada dos dados a serem utilizados durante o processo\n",
    "import pandas as pd\n",
    "dados = pd.read_csv(\"swaglabs_login.csv\", sep = \";\")\n",
    "print(dados.head())\n",
    "\n",
    "#Determinando os elementos a serem utilizados na etapa de login\n",
    "for i, user in enumerate(dados['Usuário']):\n",
    "    password = dados.loc[i, 'Senha']\n",
    "\n",
    "#Acesso ao site\n",
    "navegador.get(\"https://www.saucedemo.com/\")\n",
    "\n",
    "#Login a partir da base de dados do arquivo importado\n",
    "navegador.find_element('xpath','//*[@id=\"user-name\"]').send_keys(user)\n",
    "navegador.find_element('xpath','//*[@id=\"password\"]').send_keys(password)\n",
    "navegador.find_element('xpath','//*[@id=\"login-button\"]').click()\n",
    "\n",
    "#Processos de adição de alguns produtos, verificação do carrinho e finalização\n",
    "navegador.find_element('xpath','//*[@id=\"add-to-cart-sauce-labs-fleece-jacket\"]').click()\n",
    "navegador.find_element('xpath','//*[@id=\"shopping_cart_container\"]/a').click()\n",
    "navegador.find_element('xpath','//*[@id=\"continue-shopping\"]').click()\n",
    "navegador.find_element('xpath','//*[@id=\"add-to-cart-sauce-labs-backpack\"]').click()\n",
    "navegador.find_element('xpath','//*[@id=\"shopping_cart_container\"]/a').click()\n",
    "navegador.find_element('xpath','//*[@id=\"checkout\"]').click()\n",
    "\n",
    "#Determinando elementos a serem utilizados no cadastro de dados para a finalização da compra\n",
    "for i, user in enumerate(dados['Usuário']):\n",
    "    firstname = dados.loc[i, 'Primeiro Nome']\n",
    "    lastname = dados.loc[i, 'Último Nome']\n",
    "    postalcode = dados.loc[i, 'Código Postal']\n",
    "\n",
    "#Cadastro a partir da base de dados do arquivo importado\n",
    "navegador.find_element('xpath','//*[@id=\"first-name\"]').send_keys(firstname)\n",
    "navegador.find_element('xpath','//*[@id=\"last-name\"]').send_keys(lastname)\n",
    "navegador.find_element('xpath','//*[@id=\"postal-code\"]').send_keys(str(postalcode))\n",
    "navegador.find_element('xpath','//*[@id=\"continue\"]').click()\n",
    "\n",
    "#Processo para a captura de tela do valor final da compra\n",
    "navegador.execute_script('window.scrollBy(0, 15)')\n",
    "navegador.find_element('xpath','//*[@id=\"checkout_summary_container\"]/div/div[2]/div[8]').click()\n",
    "image=navegador.save_screenshot(\"valorfinal.png\")\n",
    "\n",
    "#Finalização\n",
    "navegador.find_element('xpath','//*[@id=\"finish\"]').click()"
   ]
  },
  {
   "cell_type": "code",
   "execution_count": null,
   "id": "47acc366-e2ea-4dd5-a672-3ee05bd73c17",
   "metadata": {},
   "outputs": [],
   "source": []
  }
 ],
 "metadata": {
  "kernelspec": {
   "display_name": "Python 3 (ipykernel)",
   "language": "python",
   "name": "python3"
  },
  "language_info": {
   "codemirror_mode": {
    "name": "ipython",
    "version": 3
   },
   "file_extension": ".py",
   "mimetype": "text/x-python",
   "name": "python",
   "nbconvert_exporter": "python",
   "pygments_lexer": "ipython3",
   "version": "3.12.0"
  }
 },
 "nbformat": 4,
 "nbformat_minor": 5
}
